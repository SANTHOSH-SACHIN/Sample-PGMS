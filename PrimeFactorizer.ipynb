{
  "nbformat": 4,
  "nbformat_minor": 0,
  "metadata": {
    "colab": {
      "name": "PrimeFactorizer.ipynb",
      "provenance": [],
      "collapsed_sections": [],
      "authorship_tag": "ABX9TyNUnA2uONzac4cwZk8iZ2oe",
      "include_colab_link": true
    },
    "kernelspec": {
      "name": "python3",
      "display_name": "Python 3"
    },
    "language_info": {
      "name": "python"
    }
  },
  "cells": [
    {
      "cell_type": "markdown",
      "metadata": {
        "id": "view-in-github",
        "colab_type": "text"
      },
      "source": [
        "<a href=\"https://colab.research.google.com/github/SANTHOSH-SACHIN/Sample-PGMS/blob/main/PrimeFactorizer.ipynb\" target=\"_parent\"><img src=\"https://colab.research.google.com/assets/colab-badge.svg\" alt=\"Open In Colab\"/></a>"
      ]
    },
    {
      "cell_type": "code",
      "metadata": {
        "id": "dw8Zyp7hck0C"
      },
      "source": [
        ""
      ],
      "execution_count": null,
      "outputs": []
    },
    {
      "cell_type": "code",
      "metadata": {
        "id": "qIF7cSNccErK"
      },
      "source": [
        "def check(n): \n",
        "\tfor i in range(2,n): \n",
        "\t\tif n%i == 0: \n",
        "\t\t\treturn False \n",
        "\treturn True \n",
        "n = int(input(\"Enter the Number: \")) \n",
        "print(str(n)+\" = \",end='') \n",
        "for i in range (2,n+1): \n",
        "\tc = 0 \n",
        "\tif check(i) == True: \n",
        "\t\twhile True: \n",
        "\t\t\tif(n%i == 0): \n",
        "\t\t\t\tn /= i \n",
        "\t\t\t\tc+= 1 \n",
        "\t\t\telse: \n",
        "\t\t\t\tbreak \n",
        "\t\tif c == 1: \n",
        "\t\t\tprint(str(i)+\" x \",end='') \n",
        "\t\telif c !=0: \n",
        "\t\t\tprint(str(i)+\"^\"+str(c)+\" x \",end='') \n",
        "print(\" \\b\\b\\b \") "
      ],
      "execution_count": null,
      "outputs": []
    }
  ]
}