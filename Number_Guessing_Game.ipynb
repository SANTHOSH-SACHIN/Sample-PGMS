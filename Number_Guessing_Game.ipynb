{
  "nbformat": 4,
  "nbformat_minor": 0,
  "metadata": {
    "colab": {
      "name": "Number Guessing Game.ipynb",
      "provenance": [],
      "collapsed_sections": [],
      "authorship_tag": "ABX9TyNkKSS2dWkJB2Vuq7fw4aFR",
      "include_colab_link": true
    },
    "kernelspec": {
      "name": "python3",
      "display_name": "Python 3"
    },
    "language_info": {
      "name": "python"
    }
  },
  "cells": [
    {
      "cell_type": "markdown",
      "metadata": {
        "id": "view-in-github",
        "colab_type": "text"
      },
      "source": [
        "<a href=\"https://colab.research.google.com/github/SANTHOSH-SACHIN/Sample-PGMS/blob/main/Number_Guessing_Game.ipynb\" target=\"_parent\"><img src=\"https://colab.research.google.com/assets/colab-badge.svg\" alt=\"Open In Colab\"/></a>"
      ]
    },
    {
      "cell_type": "code",
      "metadata": {
        "id": "Q-W2Mm5I4-PQ"
      },
      "source": [
        "import random\n",
        "attempts_list = []\n",
        "def show_score():\n",
        "    if len(attempts_list) <= 0:\n",
        "        print(\"There is currently no high score, it's yours for the taking!\nTry to finish with as less attempts as possible!!\n GOOD LUCK!!!!\")\n",
        "    else:\n",
        "        print(\"The current high score is {} attempts\".format(min(attempts_list)))\n",
        "def start_game():\n",
        "    random_number = int(random.randint(1, 100))\n",
        "    print(\"Hello traveler! Welcome to the game of guesses!\")\n",
        "    player_name = input(\"What is your name? \")\n",
        "    wanna_play = input(\"Hi {}, would you like to play the guessing game? (Enter Yes/No) \".format(player_name))\n",
        "    # // Where the show_score function USED to be\n",
        "    attempts = 0\n",
        "    show_score()\n",
        "    while wanna_play.lower() == \"yes\":\n",
        "        try:\n",
        "            guess = input(\"Pick a number between 1 and 100 \")\n",
        "            if int(guess) < 1 or int(guess) > 100:\n",
        "                raise ValueError(\"Please guess a number within the given range\")\n",
        "            if int(guess) == random_number:\n",
        "                print(\"Nice! You got it!\")\n",
        "                attempts += 1\n",
        "                attempts_list.append(attempts)\n",
        "                print(\"It took you {} attempts\".format(attempts))\n",
        "                play_again = input(\"Would you like to play again? (Enter Yes/No) \")\n",
        "                attempts = 0\n",
        "                show_score()\n",
        "                random_number = int(random.randint(1, 100))\n",
        "                if play_again.lower() == \"no\":\n",
        "                    print(\"That's cool, have a Good Day!\")\n",
        "                    break\n",
        "            elif int(guess) > random_number:\n",
        "                print(\"It's lower than this number\")\n",
        "                attempts += 1\n",
        "            elif int(guess) < random_number:\n",
        "                print(\"It's higher than this number\")\n",
        "                attempts += 1\n",
        "        except ValueError as err:\n",
        "            print(\"Oh no!, that is not a valid value. Try again...\")\n",
        "            print(\"({})\".format(err))\n",
        "    else:\n",
        "        print(\"That's cool, have a good one!\")\n",
        "if __name__ == '__main__':\n",
        "    start_game()"
      ],
      "execution_count": null,
      "outputs": []
    }
  ]
}
