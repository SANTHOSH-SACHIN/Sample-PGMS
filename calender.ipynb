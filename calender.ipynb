{
  "nbformat": 4,
  "nbformat_minor": 0,
  "metadata": {
    "colab": {
      "name": "calender.ipynb",
      "provenance": [],
      "collapsed_sections": [],
      "authorship_tag": "ABX9TyN9UEmbFmnEZyGb2bRgFIbS",
      "include_colab_link": true
    },
    "kernelspec": {
      "name": "python3",
      "display_name": "Python 3"
    },
    "language_info": {
      "name": "python"
    }
  },
  "cells": [
    {
      "cell_type": "markdown",
      "metadata": {
        "id": "view-in-github",
        "colab_type": "text"
      },
      "source": [
        "<a href=\"https://colab.research.google.com/github/SANTHOSH-SACHIN/Sample-PGMS/blob/main/calender.ipynb\" target=\"_parent\"><img src=\"https://colab.research.google.com/assets/colab-badge.svg\" alt=\"Open In Colab\"/></a>"
      ]
    },
    {
      "cell_type": "code",
      "metadata": {
        "id": "NMietZN0a5jc"
      },
      "source": [
        "import calendar\n",
        "year =int( input(\"Enter the year of the required calendar \"))\n",
        "month = int( input(\"Enter the month of the required calendar \"))\n",
        "print(calendar.month(year,month))   "
      ],
      "execution_count": null,
      "outputs": []
    }
  ]
}