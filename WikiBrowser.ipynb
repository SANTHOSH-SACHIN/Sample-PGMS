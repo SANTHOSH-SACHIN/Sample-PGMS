{
  "nbformat": 4,
  "nbformat_minor": 0,
  "metadata": {
    "colab": {
      "name": "WikiBrowser.ipynb",
      "provenance": [],
      "collapsed_sections": [],
      "authorship_tag": "ABX9TyO/OTvBJ7MIW9rKIWg42KwZ",
      "include_colab_link": true
    },
    "kernelspec": {
      "name": "python3",
      "display_name": "Python 3"
    },
    "language_info": {
      "name": "python"
    }
  },
  "cells": [
    {
      "cell_type": "markdown",
      "metadata": {
        "id": "view-in-github",
        "colab_type": "text"
      },
      "source": [
        "<a href=\"https://colab.research.google.com/github/SANTHOSH-SACHIN/Sample-PGMS/blob/main/WikiBrowser.ipynb\" target=\"_parent\"><img src=\"https://colab.research.google.com/assets/colab-badge.svg\" alt=\"Open In Colab\"/></a>"
      ]
    },
    {
      "cell_type": "code",
      "metadata": {
        "id": "gmNm4fC4gOn8"
      },
      "source": [
        "import requests\n",
        "\n",
        "from bs4 import BeautifulSoup\n",
        "\n",
        "from time import sleep\n",
        "\n",
        "print(\"WIKIBROWSER BY SANTHOSH SACHIN\\n\\n\\n\")\n",
        "\n",
        "sleep(2)\n",
        "\n",
        "si = input(\"Please use '_' for spaces. Type Topic: \\n\")\n",
        "\n",
        "wiki_url = (\"https://en.wikipedia.org/wiki/\" + si)\n",
        "\n",
        "# get the html\n",
        "\n",
        "r = requests.get(wiki_url)\n",
        "\n",
        "Content_to_be_displayed = r.content\n",
        "\n",
        "# use the command to view html code of page - print (htmlContent)\n",
        "\n",
        "# Parse the html\n",
        "\n",
        "parse_var = BeautifulSoup(Content_to_be_displayed, 'html.parser')\n",
        "\n",
        "#to print all the paras text\n",
        "\n",
        "for para in parse_var.find_all(\"p\"):\n",
        "\n",
        "  print(para.get_text())"
      ],
      "execution_count": null,
      "outputs": []
    }
  ]
}